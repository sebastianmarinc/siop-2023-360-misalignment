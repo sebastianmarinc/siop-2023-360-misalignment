{
 "cells": [
  {
   "cell_type": "code",
   "execution_count": 1,
   "id": "d801452a",
   "metadata": {},
   "outputs": [],
   "source": [
    "import econml"
   ]
  },
  {
   "cell_type": "code",
   "execution_count": 4,
   "id": "ecc85367",
   "metadata": {},
   "outputs": [],
   "source": [
    "from econml.panel.dml import DynamicDML\n",
    "import pandas as pd\n",
    "import numpy as np\n",
    "from sklearn.linear_model import Lasso, LassoCV, LogisticRegression, LogisticRegressionCV, MultiTaskLassoCV"
   ]
  },
  {
   "cell_type": "code",
   "execution_count": 5,
   "id": "b9ebb576",
   "metadata": {},
   "outputs": [],
   "source": [
    "DynamicDML?"
   ]
  },
  {
   "cell_type": "code",
   "execution_count": null,
   "id": "9f5f0629",
   "metadata": {},
   "outputs": [],
   "source": []
  }
 ],
 "metadata": {
  "kernelspec": {
   "display_name": "Python 3 (ipykernel)",
   "language": "python",
   "name": "python3"
  },
  "language_info": {
   "codemirror_mode": {
    "name": "ipython",
    "version": 3
   },
   "file_extension": ".py",
   "mimetype": "text/x-python",
   "name": "python",
   "nbconvert_exporter": "python",
   "pygments_lexer": "ipython3",
   "version": "3.9.5"
  }
 },
 "nbformat": 4,
 "nbformat_minor": 5
}
